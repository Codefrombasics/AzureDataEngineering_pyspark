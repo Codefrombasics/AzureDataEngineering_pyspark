{
 "cells": [
  {
   "cell_type": "code",
   "execution_count": 17,
   "id": "6020472d-697e-4869-8ce3-8d32dee06388",
   "metadata": {},
   "outputs": [
    {
     "data": {
      "text/html": [
       "\n",
       "            <div>\n",
       "                <p><b>SparkSession - in-memory</b></p>\n",
       "                \n",
       "        <div>\n",
       "            <p><b>SparkContext</b></p>\n",
       "\n",
       "            <p><a href=\"http://157801e91612:4043\">Spark UI</a></p>\n",
       "\n",
       "            <dl>\n",
       "              <dt>Version</dt>\n",
       "                <dd><code>v3.3.0</code></dd>\n",
       "              <dt>Master</dt>\n",
       "                <dd><code>local[*]</code></dd>\n",
       "              <dt>AppName</dt>\n",
       "                <dd><code>WindowFunction</code></dd>\n",
       "            </dl>\n",
       "        </div>\n",
       "        \n",
       "            </div>\n",
       "        "
      ],
      "text/plain": [
       "<pyspark.sql.session.SparkSession at 0x7fb702cba290>"
      ]
     },
     "execution_count": 17,
     "metadata": {},
     "output_type": "execute_result"
    }
   ],
   "source": [
    "from pyspark.sql import SparkSession\n",
    "\n",
    "spark=SparkSession.builder.appName(\"WindowFunction\").master(\"local[*]\").getOrCreate()\n",
    "spark"
   ]
  },
  {
   "cell_type": "code",
   "execution_count": 18,
   "id": "f1fe272b-2a2d-4a4f-ae99-302dd26377e8",
   "metadata": {},
   "outputs": [],
   "source": [
    "\n",
    "\n",
    "emp_data_1 = [\n",
    "    [\"001\",\"101\",\"John Doe\",\"30\",\"Male\",\"50000\",\"2015-01-01\"],\n",
    "    [\"002\",\"101\",\"Jane Smith\",\"25\",\"Female\",\"45000\",\"2016-02-15\"],\n",
    "    [\"003\",\"102\",\"Bob Brown\",\"35\",\"Male\",\"55000\",\"2014-05-01\"],\n",
    "    [\"004\",\"102\",\"Alice Lee\",\"28\",\"Female\",\"48000\",\"2017-09-30\"],\n",
    "    [\"005\",\"103\",\"Jack Chan\",\"40\",\"Male\",\"60000\",\"2013-04-01\"],\n",
    "    [\"006\",\"103\",\"Jill Wong\",\"32\",\"Female\",\"52000\",\"2018-07-01\"],\n",
    "    [\"007\",\"101\",\"James Johnson\",\"42\",\"Male\",\"70000\",\"2012-03-15\"],\n",
    "    [\"008\",\"102\",\"Kate Kim\",\"29\",\"Female\",\"51000\",\"2019-10-01\"],\n",
    "    [\"009\",\"103\",\"Tom Tan\",\"33\",\"Male\",\"58000\",\"2016-06-01\"],\n",
    "    [\"010\",\"104\",\"Lisa Lee\",\"27\",\"Female\",\"47000\",\"2018-08-01\"],\n",
    "    [\"011\",\"104\",\"David Park\",\"38\",\"Male\",\"65000\",\"2015-11-01\"],\n",
    "    [\"012\",\"105\",\"Susan Chen\",\"31\",\"Female\",\"54000\",\"2017-02-15\"],\n",
    "    [\"013\",\"106\",\"Brian Kim\",\"45\",\"Male\",\"75000\",\"2011-07-01\"],\n",
    "    [\"014\",\"107\",\"Emily Lee\",\"26\",\"Female\",\"46000\",\"2019-01-01\"],\n",
    "    [\"015\",\"106\",\"Michael Lee\",\"37\",\"Male\",\"63000\",\"2014-09-30\"],\n",
    "    [\"016\",\"107\",\"Kelly Zhang\",\"30\",\"Female\",\"49000\",\"2018-04-01\"],\n",
    "    [\"017\",\"105\",\"George Wang\",\"34\",\"Male\",\"57000\",\"2016-03-15\"],\n",
    "    [\"018\",\"104\",\"Nancy Liu\",\"29\",\"\",\"50000\",\"2017-06-01\"],\n",
    "    [\"019\",\"103\",\"Steven Chen\",\"36\",\"Male\",\"62000\",\"2015-08-01\"],\n",
    "    [\"020\",\"102\",\"Grace Kim\",\"32\",\"Female\",\"53000\",\"2018-11-01\"],\n",
    "    [\"021\",\"101\",\"John Smith\",\"25\",\"Female\",\"50000\",\"2016-02-15\"],\n",
    "]\n",
    "\n",
    "emp_schema=\"employee_id string, department_id string,name string, age string,gender string,salary string, hire_date string\""
   ]
  },
  {
   "cell_type": "code",
   "execution_count": 19,
   "id": "523e4874-6e2f-43cf-980b-c8c7cec9dcaa",
   "metadata": {},
   "outputs": [
    {
     "name": "stdout",
     "output_type": "stream",
     "text": [
      "root\n",
      " |-- employee_id: string (nullable = true)\n",
      " |-- department_id: string (nullable = true)\n",
      " |-- name: string (nullable = true)\n",
      " |-- age: string (nullable = true)\n",
      " |-- gender: string (nullable = true)\n",
      " |-- salary: string (nullable = true)\n",
      " |-- hire_date: string (nullable = true)\n",
      "\n"
     ]
    }
   ],
   "source": [
    "emp_df=spark.createDataFrame(emp_data_1,emp_schema)\n",
    "emp_df.printSchema()"
   ]
  },
  {
   "cell_type": "code",
   "execution_count": 20,
   "id": "7677e22a-0d8a-4ee9-a692-b324d7632bae",
   "metadata": {},
   "outputs": [
    {
     "name": "stderr",
     "output_type": "stream",
     "text": [
      "[Stage 21:===========================================>              (6 + 2) / 8]"
     ]
    },
    {
     "name": "stdout",
     "output_type": "stream",
     "text": [
      "+-----------+-------------+-------------+---+------+------+----------+\n",
      "|employee_id|department_id|         name|age|gender|salary| hire_date|\n",
      "+-----------+-------------+-------------+---+------+------+----------+\n",
      "|        001|          101|     John Doe| 30|  Male| 50000|2015-01-01|\n",
      "|        002|          101|   Jane Smith| 25|Female| 45000|2016-02-15|\n",
      "|        003|          102|    Bob Brown| 35|  Male| 55000|2014-05-01|\n",
      "|        004|          102|    Alice Lee| 28|Female| 48000|2017-09-30|\n",
      "|        007|          101|James Johnson| 42|  Male| 70000|2012-03-15|\n",
      "|        005|          103|    Jack Chan| 40|  Male| 60000|2013-04-01|\n",
      "|        008|          102|     Kate Kim| 29|Female| 51000|2019-10-01|\n",
      "|        006|          103|    Jill Wong| 32|Female| 52000|2018-07-01|\n",
      "|        010|          104|     Lisa Lee| 27|Female| 47000|2018-08-01|\n",
      "|        009|          103|      Tom Tan| 33|  Male| 58000|2016-06-01|\n",
      "|        012|          105|   Susan Chen| 31|Female| 54000|2017-02-15|\n",
      "|        011|          104|   David Park| 38|  Male| 65000|2015-11-01|\n",
      "|        015|          106|  Michael Lee| 37|  Male| 63000|2014-09-30|\n",
      "|        016|          107|  Kelly Zhang| 30|Female| 49000|2018-04-01|\n",
      "|        014|          107|    Emily Lee| 26|Female| 46000|2019-01-01|\n",
      "|        013|          106|    Brian Kim| 45|  Male| 75000|2011-07-01|\n",
      "|        017|          105|  George Wang| 34|  Male| 57000|2016-03-15|\n",
      "|        018|          104|    Nancy Liu| 29|      | 50000|2017-06-01|\n",
      "|        019|          103|  Steven Chen| 36|  Male| 62000|2015-08-01|\n",
      "|        021|          101|   John Smith| 25|Female| 50000|2016-02-15|\n",
      "+-----------+-------------+-------------+---+------+------+----------+\n",
      "only showing top 20 rows\n",
      "\n"
     ]
    },
    {
     "name": "stderr",
     "output_type": "stream",
     "text": [
      "                                                                                "
     ]
    }
   ],
   "source": [
    "emp_unique=emp_df.distinct()\n",
    "emp_unique.show()"
   ]
  },
  {
   "cell_type": "code",
   "execution_count": 21,
   "id": "b7d32ddd-cf98-4d2a-829d-eee4dba04f12",
   "metadata": {},
   "outputs": [
    {
     "name": "stderr",
     "output_type": "stream",
     "text": [
      "[Stage 24:===========================================>              (6 + 2) / 8]"
     ]
    },
    {
     "name": "stdout",
     "output_type": "stream",
     "text": [
      "+-------------+\n",
      "|department_id|\n",
      "+-------------+\n",
      "|          101|\n",
      "|          102|\n",
      "|          103|\n",
      "|          104|\n",
      "|          105|\n",
      "|          107|\n",
      "|          106|\n",
      "+-------------+\n",
      "\n"
     ]
    },
    {
     "name": "stderr",
     "output_type": "stream",
     "text": [
      "                                                                                "
     ]
    }
   ],
   "source": [
    "#select distinct department_id\n",
    "\n",
    "emp_dept_ids=emp_df.select(\"department_id\").distinct()\n",
    "emp_dept_ids.show()"
   ]
  },
  {
   "cell_type": "code",
   "execution_count": 32,
   "id": "692e0819-913d-4576-bd76-bf6033b245d3",
   "metadata": {},
   "outputs": [
    {
     "name": "stderr",
     "output_type": "stream",
     "text": [
      "[Stage 42:==================================================>       (7 + 1) / 8]"
     ]
    },
    {
     "name": "stdout",
     "output_type": "stream",
     "text": [
      "+-----------+-------------+-------------+---+------+------+----------+----------+----------+\n",
      "|employee_id|department_id|         name|age|gender|salary| hire_date|max_salary|min_salary|\n",
      "+-----------+-------------+-------------+---+------+------+----------+----------+----------+\n",
      "|        002|          101|   Jane Smith| 25|Female| 45000|2016-02-15|     70000|     45000|\n",
      "|        001|          101|     John Doe| 30|  Male| 50000|2015-01-01|     70000|     45000|\n",
      "|        021|          101|   John Smith| 25|Female| 50000|2016-02-15|     70000|     45000|\n",
      "|        007|          101|James Johnson| 42|  Male| 70000|2012-03-15|     70000|     45000|\n",
      "|        004|          102|    Alice Lee| 28|Female| 48000|2017-09-30|     55000|     48000|\n",
      "|        008|          102|     Kate Kim| 29|Female| 51000|2019-10-01|     55000|     48000|\n",
      "|        020|          102|    Grace Kim| 32|Female| 53000|2018-11-01|     55000|     48000|\n",
      "|        003|          102|    Bob Brown| 35|  Male| 55000|2014-05-01|     55000|     48000|\n",
      "|        006|          103|    Jill Wong| 32|Female| 52000|2018-07-01|     62000|     52000|\n",
      "|        009|          103|      Tom Tan| 33|  Male| 58000|2016-06-01|     62000|     52000|\n",
      "|        005|          103|    Jack Chan| 40|  Male| 60000|2013-04-01|     62000|     52000|\n",
      "|        019|          103|  Steven Chen| 36|  Male| 62000|2015-08-01|     62000|     52000|\n",
      "|        010|          104|     Lisa Lee| 27|Female| 47000|2018-08-01|     65000|     47000|\n",
      "|        018|          104|    Nancy Liu| 29|      | 50000|2017-06-01|     65000|     47000|\n",
      "|        011|          104|   David Park| 38|  Male| 65000|2015-11-01|     65000|     47000|\n",
      "|        012|          105|   Susan Chen| 31|Female| 54000|2017-02-15|     57000|     54000|\n",
      "|        017|          105|  George Wang| 34|  Male| 57000|2016-03-15|     57000|     54000|\n",
      "|        015|          106|  Michael Lee| 37|  Male| 63000|2014-09-30|     75000|     63000|\n",
      "|        013|          106|    Brian Kim| 45|  Male| 75000|2011-07-01|     75000|     63000|\n",
      "|        014|          107|    Emily Lee| 26|Female| 46000|2019-01-01|     49000|     46000|\n",
      "+-----------+-------------+-------------+---+------+------+----------+----------+----------+\n",
      "only showing top 20 rows\n",
      "\n"
     ]
    },
    {
     "name": "stderr",
     "output_type": "stream",
     "text": [
      "                                                                                "
     ]
    }
   ],
   "source": [
    "#window functions, min, max,sum,lead,lag, row_number,rank,dense_rank\n",
    "\n",
    "from pyspark.sql.window import Window\n",
    "from pyspark.sql.functions import max,col,desc,min\n",
    "\n",
    "#select *, max(salary) over(partition by department_id order by salary desc) as max_salary_each_dept from tablenameabs\n",
    "\n",
    "\n",
    "window_spec=Window.partitionBy(\"department_id\").orderBy(col(\"salary\").desc())\n",
    "max_fun=max(col(\"salary\")).over(window_spec)\n",
    "min_fun=min(col(\"salary\")).over(Window.partitionBy(\"department_id\").orderBy(col(\"salary\")))\n",
    "\n",
    "\n",
    "\n",
    "dept_max_sal_df=emp_df.withColumn(\"max_salary\",max_fun).withColumn(\"min_salary\",min_fun)\n",
    "dept_max_sal_df.show()"
   ]
  },
  {
   "cell_type": "code",
   "execution_count": 34,
   "id": "be008692-1d12-4b18-9361-c10ce602cd62",
   "metadata": {},
   "outputs": [
    {
     "name": "stderr",
     "output_type": "stream",
     "text": [
      "[Stage 48:===========================================>              (6 + 2) / 8]"
     ]
    },
    {
     "name": "stdout",
     "output_type": "stream",
     "text": [
      "+-----------+-------------+-----------+---+------+------+----------+----+\n",
      "|employee_id|department_id|       name|age|gender|salary| hire_date|rank|\n",
      "+-----------+-------------+-----------+---+------+------+----------+----+\n",
      "|        001|          101|   John Doe| 30|  Male| 50000|2015-01-01|   2|\n",
      "|        021|          101| John Smith| 25|Female| 50000|2016-02-15|   2|\n",
      "|        020|          102|  Grace Kim| 32|Female| 53000|2018-11-01|   2|\n",
      "|        005|          103|  Jack Chan| 40|  Male| 60000|2013-04-01|   2|\n",
      "|        018|          104|  Nancy Liu| 29|      | 50000|2017-06-01|   2|\n",
      "|        012|          105| Susan Chen| 31|Female| 54000|2017-02-15|   2|\n",
      "|        015|          106|Michael Lee| 37|  Male| 63000|2014-09-30|   2|\n",
      "|        014|          107|  Emily Lee| 26|Female| 46000|2019-01-01|   2|\n",
      "+-----------+-------------+-----------+---+------+------+----------+----+\n",
      "\n"
     ]
    },
    {
     "name": "stderr",
     "output_type": "stream",
     "text": [
      "                                                                                "
     ]
    }
   ],
   "source": [
    "# find the second highest salary in each department\n",
    "from pyspark.sql.functions import dense_rank,col,desc\n",
    "window_spec=Window.partitionBy(\"department_id\").orderBy(col(\"salary\").desc())\n",
    "rank_fun=dense_rank().over(window_spec)\n",
    "\n",
    "second_highest_sal=emp_df.withColumn(\"rank\",rank_fun).filter(\"rank==2\")\n",
    "second_highest_sal.show()"
   ]
  },
  {
   "cell_type": "code",
   "execution_count": 27,
   "id": "1d439897-8151-414e-ab76-82fb23cef393",
   "metadata": {},
   "outputs": [
    {
     "name": "stdout",
     "output_type": "stream",
     "text": [
      "+-----------+-------------+-----------+---+------+------+----------+---------------+\n",
      "|employee_id|department_id|       name|age|gender|salary| hire_date|2nd_highest_sal|\n",
      "+-----------+-------------+-----------+---+------+------+----------+---------------+\n",
      "|        001|          101|   John Doe| 30|  Male| 50000|2015-01-01|              2|\n",
      "|        021|          101| John Smith| 25|Female| 50000|2016-02-15|              2|\n",
      "|        020|          102|  Grace Kim| 32|Female| 53000|2018-11-01|              2|\n",
      "|        005|          103|  Jack Chan| 40|  Male| 60000|2013-04-01|              2|\n",
      "|        018|          104|  Nancy Liu| 29|      | 50000|2017-06-01|              2|\n",
      "|        012|          105| Susan Chen| 31|Female| 54000|2017-02-15|              2|\n",
      "|        015|          106|Michael Lee| 37|  Male| 63000|2014-09-30|              2|\n",
      "|        014|          107|  Emily Lee| 26|Female| 46000|2019-01-01|              2|\n",
      "+-----------+-------------+-----------+---+------+------+----------+---------------+\n",
      "\n"
     ]
    }
   ],
   "source": [
    "from pyspark.sql.functions import expr\n",
    "second_highest_using_sql=emp_df.withColumn(\"2nd_highest_sal\",expr(\"dense_rank() over(partition by department_id order by salary desc)\"))\n",
    "second_highest_using_sql.where(\"2nd_highest_sal==2\").show()"
   ]
  },
  {
   "cell_type": "code",
   "execution_count": null,
   "id": "155c97f5-25c4-4006-ae4e-3ec2b94d5cf1",
   "metadata": {},
   "outputs": [],
   "source": [
    "emp_df[\"bonus\"]=emp_df[\"salary\"]*2\n",
    "emp_df.withColumn(\"bonus\",col(\"salary\")*2)"
   ]
  }
 ],
 "metadata": {
  "kernelspec": {
   "display_name": "Python 3 (ipykernel)",
   "language": "python",
   "name": "python3"
  },
  "language_info": {
   "codemirror_mode": {
    "name": "ipython",
    "version": 3
   },
   "file_extension": ".py",
   "mimetype": "text/x-python",
   "name": "python",
   "nbconvert_exporter": "python",
   "pygments_lexer": "ipython3",
   "version": "3.10.17"
  }
 },
 "nbformat": 4,
 "nbformat_minor": 5
}
