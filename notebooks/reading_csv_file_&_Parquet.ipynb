{
 "cells": [
  {
   "cell_type": "code",
   "execution_count": 7,
   "id": "d2966638-3b7a-4c7d-bfda-9050821f2b5e",
   "metadata": {},
   "outputs": [
    {
     "data": {
      "text/html": [
       "\n",
       "            <div>\n",
       "                <p><b>SparkSession - in-memory</b></p>\n",
       "                \n",
       "        <div>\n",
       "            <p><b>SparkContext</b></p>\n",
       "\n",
       "            <p><a href=\"http://157801e91612:4044\">Spark UI</a></p>\n",
       "\n",
       "            <dl>\n",
       "              <dt>Version</dt>\n",
       "                <dd><code>v3.3.0</code></dd>\n",
       "              <dt>Master</dt>\n",
       "                <dd><code>local[*]</code></dd>\n",
       "              <dt>AppName</dt>\n",
       "                <dd><code>WindowFunction</code></dd>\n",
       "            </dl>\n",
       "        </div>\n",
       "        \n",
       "            </div>\n",
       "        "
      ],
      "text/plain": [
       "<pyspark.sql.session.SparkSession at 0x7f2b56f90f10>"
      ]
     },
     "execution_count": 7,
     "metadata": {},
     "output_type": "execute_result"
    }
   ],
   "source": [
    "from pyspark.sql import SparkSession\n",
    "\n",
    "spark=SparkSession.builder.appName(\"WindowFunction\").master(\"local[*]\").getOrCreate()\n",
    "spark"
   ]
  },
  {
   "cell_type": "code",
   "execution_count": 16,
   "id": "5add7e99-b003-4734-8f88-ad05d9909ba5",
   "metadata": {},
   "outputs": [],
   "source": [
    "df=spark.read.format(\"csv\").option(\"header\",True).option(\"inferschema\",True).load(\"input/emp.csv\")"
   ]
  },
  {
   "cell_type": "code",
   "execution_count": 17,
   "id": "29f55daf-f852-4089-b6c1-2294f35c1d5b",
   "metadata": {},
   "outputs": [
    {
     "name": "stdout",
     "output_type": "stream",
     "text": [
      "root\n",
      " |-- employee_id: integer (nullable = true)\n",
      " |-- department_id: integer (nullable = true)\n",
      " |-- name: string (nullable = true)\n",
      " |-- age: integer (nullable = true)\n",
      " |-- gender: string (nullable = true)\n",
      " |-- salary: integer (nullable = true)\n",
      " |-- hire_date: timestamp (nullable = true)\n",
      "\n"
     ]
    }
   ],
   "source": [
    "df.printSchema()"
   ]
  },
  {
   "cell_type": "code",
   "execution_count": null,
   "id": "626e55c9-e3b9-487f-8c64-781d26c40509",
   "metadata": {},
   "outputs": [],
   "source": [
    "#you can see that the datatypes are inferred the datatype correctly"
   ]
  },
  {
   "cell_type": "code",
   "execution_count": 18,
   "id": "940e6aef-e049-432c-b1a4-4dfdfe58337a",
   "metadata": {},
   "outputs": [
    {
     "name": "stdout",
     "output_type": "stream",
     "text": [
      "+-----------+-------------+----------+---+------+------+-------------------+\n",
      "|employee_id|department_id|      name|age|gender|salary|          hire_date|\n",
      "+-----------+-------------+----------+---+------+------+-------------------+\n",
      "|          1|          101|  John Doe| 30|  Male| 50000|2015-01-01 00:00:00|\n",
      "|          2|          101|Jane Smith| 25|Female| 45000|2016-02-15 00:00:00|\n",
      "|          3|          102| Bob Brown| 35|  Male| 55000|2014-05-01 00:00:00|\n",
      "|          4|          102| Alice Lee| 28|Female| 48000|2017-09-30 00:00:00|\n",
      "|          5|          103| Jack Chan| 40|  Male| 60000|2013-04-01 00:00:00|\n",
      "+-----------+-------------+----------+---+------+------+-------------------+\n",
      "only showing top 5 rows\n",
      "\n"
     ]
    }
   ],
   "source": [
    "df.show(5) # 5 means number of rows to be printed"
   ]
  },
  {
   "cell_type": "code",
   "execution_count": 42,
   "id": "b127759a-6a29-4206-bfb2-b9e3716b1a5a",
   "metadata": {},
   "outputs": [
    {
     "name": "stdout",
     "output_type": "stream",
     "text": [
      "root\n",
      " |-- employee_id: integer (nullable = true)\n",
      " |-- department_id: integer (nullable = true)\n",
      " |-- name: string (nullable = true)\n",
      " |-- age: integer (nullable = true)\n",
      " |-- gender: string (nullable = true)\n",
      " |-- salary: double (nullable = true)\n",
      " |-- hire_date: date (nullable = true)\n",
      "\n",
      "+-----------+-------------+-------------+---+------+-------+----------+\n",
      "|employee_id|department_id|         name|age|gender| salary| hire_date|\n",
      "+-----------+-------------+-------------+---+------+-------+----------+\n",
      "|          1|          101|     John Doe| 30|  Male|50000.0|2015-01-01|\n",
      "|          2|          101|   Jane Smith| 25|Female|45000.0|2016-02-15|\n",
      "|          3|          102|    Bob Brown| 35|  Male|55000.0|2014-05-01|\n",
      "|          4|          102|    Alice Lee| 28|Female|48000.0|2017-09-30|\n",
      "|          5|          103|    Jack Chan| 40|  Male|60000.0|2013-04-01|\n",
      "|          6|          103|    Jill Wong| 32|Female|52000.0|2018-07-01|\n",
      "|          7|          101|James Johnson| 42|  Male|70000.0|2012-03-15|\n",
      "|          8|          102|     Kate Kim| 29|Female|   null|2019-10-01|\n",
      "|          9|          103|      Tom Tan| 33|  Male|58000.0|2016-06-01|\n",
      "|         10|          104|     Lisa Lee| 27|Female|47000.0|2018-08-01|\n",
      "|         11|          104|   David Park| 38|  Male|65000.0|2015-11-01|\n",
      "|         12|          105|   Susan Chen| 31|Female|   null|2017-02-21|\n",
      "|         13|          106|    Brian Kim| 45|  Male|75000.0|2011-07-01|\n",
      "|         14|          107|    Emily Lee| 26|Female|46000.0|2019-01-01|\n",
      "|         15|          106|  Michael Lee| 37|  Male|63000.0|2014-09-30|\n",
      "|         16|          107|  Kelly Zhang| 30|Female|49000.0|2018-04-01|\n",
      "|         17|          105|  George Wang| 34|  Male|57000.0|2016-03-15|\n",
      "|         18|          104|    Nancy Liu| 29|  null|50000.0|2017-06-01|\n",
      "|         19|          103|  Steven Chen| 36|  Male|62000.0|2015-08-01|\n",
      "|         20|          102|    Grace Kim| 32|Female|53000.0|2018-11-01|\n",
      "+-----------+-------------+-------------+---+------+-------+----------+\n",
      "only showing top 20 rows\n",
      "\n"
     ]
    }
   ],
   "source": [
    "emp_schema=\"employee_id int, department_id int,name string, age int,gender string,salary double, hire_date date\"\n",
    "df_using_schema=spark.read.format(\"csv\").option(\"header\",True).schema(emp_schema).load(\"input/emp.csv\")\n",
    "df_using_schema.printSchema()\n",
    "df_using_schema.show()"
   ]
  },
  {
   "cell_type": "code",
   "execution_count": 37,
   "id": "847b54b9-3d9f-4ec2-9076-936d692395a1",
   "metadata": {},
   "outputs": [
    {
     "data": {
      "text/markdown": [
       "\n",
       "### how to handle bad records\n",
       "```\n",
       "1.Permissive Mode(Default)\n",
       "2.DropMalformed -> will remove the corrupted Column\n",
       "3.Failfast -> will not allow any corrupted record\n",
       "```\n"
      ],
      "text/plain": [
       "<IPython.core.display.Markdown object>"
      ]
     },
     "metadata": {},
     "output_type": "display_data"
    }
   ],
   "source": [
    "%%markdown\n",
    "\n",
    "### how to handle bad records\n",
    "```\n",
    "1.Permissive Mode(Default)\n",
    "2.DropMalformed -> will remove the corrupted Column\n",
    "3.Failfast -> will not allow any corrupted record\n",
    "```"
   ]
  },
  {
   "cell_type": "code",
   "execution_count": 43,
   "id": "fbb4f7a3-f624-4c54-9a13-947b7f557c45",
   "metadata": {},
   "outputs": [
    {
     "name": "stdout",
     "output_type": "stream",
     "text": [
      "root\n",
      " |-- employee_id: integer (nullable = true)\n",
      " |-- department_id: integer (nullable = true)\n",
      " |-- name: string (nullable = true)\n",
      " |-- age: integer (nullable = true)\n",
      " |-- gender: string (nullable = true)\n",
      " |-- salary: double (nullable = true)\n",
      " |-- hire_date: date (nullable = true)\n",
      " |-- bad_record: string (nullable = true)\n",
      "\n",
      "+-----------+-------------+-------------+---+------+-------+----------+--------------------+\n",
      "|employee_id|department_id|         name|age|gender| salary| hire_date|          bad_record|\n",
      "+-----------+-------------+-------------+---+------+-------+----------+--------------------+\n",
      "|          1|          101|     John Doe| 30|  Male|50000.0|2015-01-01|                null|\n",
      "|          2|          101|   Jane Smith| 25|Female|45000.0|2016-02-15|                null|\n",
      "|          3|          102|    Bob Brown| 35|  Male|55000.0|2014-05-01|                null|\n",
      "|          4|          102|    Alice Lee| 28|Female|48000.0|2017-09-30|                null|\n",
      "|          5|          103|    Jack Chan| 40|  Male|60000.0|2013-04-01|                null|\n",
      "|          6|          103|    Jill Wong| 32|Female|52000.0|2018-07-01|                null|\n",
      "|          7|          101|James Johnson| 42|  Male|70000.0|2012-03-15|                null|\n",
      "|          8|          102|     Kate Kim| 29|Female|   null|2019-10-01|\"008\",\"102\",\"Kate...|\n",
      "|          9|          103|      Tom Tan| 33|  Male|58000.0|2016-06-01|                null|\n",
      "|         10|          104|     Lisa Lee| 27|Female|47000.0|2018-08-01|                null|\n",
      "|         11|          104|   David Park| 38|  Male|65000.0|2015-11-01|                null|\n",
      "|         12|          105|   Susan Chen| 31|Female|   null|2017-02-21|\"012\",\"105\",\"Susa...|\n",
      "|         13|          106|    Brian Kim| 45|  Male|75000.0|2011-07-01|                null|\n",
      "|         14|          107|    Emily Lee| 26|Female|46000.0|2019-01-01|                null|\n",
      "|         15|          106|  Michael Lee| 37|  Male|63000.0|2014-09-30|                null|\n",
      "|         16|          107|  Kelly Zhang| 30|Female|49000.0|2018-04-01|                null|\n",
      "|         17|          105|  George Wang| 34|  Male|57000.0|2016-03-15|                null|\n",
      "|         18|          104|    Nancy Liu| 29|  null|50000.0|2017-06-01|                null|\n",
      "|         19|          103|  Steven Chen| 36|  Male|62000.0|2015-08-01|                null|\n",
      "|         20|          102|    Grace Kim| 32|Female|53000.0|2018-11-01|                null|\n",
      "+-----------+-------------+-------------+---+------+-------+----------+--------------------+\n",
      "only showing top 20 rows\n",
      "\n"
     ]
    }
   ],
   "source": [
    "\n",
    "emp_schema=\"employee_id int, department_id int,name string, age int,gender string,salary double, hire_date date,bad_record string\"\n",
    "df_corrupt=spark.read.format(\"csv\").option(\"header\",True).option(\"columnNameOfCorruptRecord\",\"bad_record\").schema(emp_schema).load(\"input/emp.csv\")\n",
    "df_corrupt.printSchema()\n",
    "df_corrupt.show()"
   ]
  },
  {
   "cell_type": "code",
   "execution_count": 44,
   "id": "ef590692-5f2f-4a4f-a231-44a33f02806c",
   "metadata": {},
   "outputs": [
    {
     "name": "stdout",
     "output_type": "stream",
     "text": [
      "root\n",
      " |-- employee_id: integer (nullable = true)\n",
      " |-- department_id: integer (nullable = true)\n",
      " |-- name: string (nullable = true)\n",
      " |-- age: integer (nullable = true)\n",
      " |-- gender: string (nullable = true)\n",
      " |-- salary: double (nullable = true)\n",
      " |-- hire_date: date (nullable = true)\n",
      "\n",
      "+-----------+-------------+-------------+---+------+-------+----------+\n",
      "|employee_id|department_id|         name|age|gender| salary| hire_date|\n",
      "+-----------+-------------+-------------+---+------+-------+----------+\n",
      "|          1|          101|     John Doe| 30|  Male|50000.0|2015-01-01|\n",
      "|          2|          101|   Jane Smith| 25|Female|45000.0|2016-02-15|\n",
      "|          3|          102|    Bob Brown| 35|  Male|55000.0|2014-05-01|\n",
      "|          4|          102|    Alice Lee| 28|Female|48000.0|2017-09-30|\n",
      "|          5|          103|    Jack Chan| 40|  Male|60000.0|2013-04-01|\n",
      "|          6|          103|    Jill Wong| 32|Female|52000.0|2018-07-01|\n",
      "|          7|          101|James Johnson| 42|  Male|70000.0|2012-03-15|\n",
      "|          9|          103|      Tom Tan| 33|  Male|58000.0|2016-06-01|\n",
      "|         10|          104|     Lisa Lee| 27|Female|47000.0|2018-08-01|\n",
      "|         11|          104|   David Park| 38|  Male|65000.0|2015-11-01|\n",
      "|         13|          106|    Brian Kim| 45|  Male|75000.0|2011-07-01|\n",
      "|         14|          107|    Emily Lee| 26|Female|46000.0|2019-01-01|\n",
      "|         15|          106|  Michael Lee| 37|  Male|63000.0|2014-09-30|\n",
      "|         16|          107|  Kelly Zhang| 30|Female|49000.0|2018-04-01|\n",
      "|         17|          105|  George Wang| 34|  Male|57000.0|2016-03-15|\n",
      "|         18|          104|    Nancy Liu| 29|  null|50000.0|2017-06-01|\n",
      "|         19|          103|  Steven Chen| 36|  Male|62000.0|2015-08-01|\n",
      "|         20|          102|    Grace Kim| 32|Female|53000.0|2018-11-01|\n",
      "|         21|          101|   John Smith| 25|Female|50000.0|2016-02-15|\n",
      "+-----------+-------------+-------------+---+------+-------+----------+\n",
      "\n"
     ]
    }
   ],
   "source": [
    "emp_schema=\"employee_id int, department_id int,name string, age int,gender string,salary double, hire_date date\"\n",
    "df_mode_dropmalformed=spark.read.format(\"csv\").option(\"header\",True).option(\"mode\",\"DROPMALFORMED\").schema(emp_schema).load(\"input/emp.csv\")\n",
    "df_mode_dropmalformed.printSchema()\n",
    "df_mode_dropmalformed.show()"
   ]
  },
  {
   "cell_type": "code",
   "execution_count": 34,
   "id": "e46646a7-f2aa-47d5-aceb-ee6c9a89ac57",
   "metadata": {},
   "outputs": [
    {
     "data": {
      "text/markdown": [
       "\n",
       "### failfast\n"
      ],
      "text/plain": [
       "<IPython.core.display.Markdown object>"
      ]
     },
     "metadata": {},
     "output_type": "display_data"
    }
   ],
   "source": [
    "%%markdown\n",
    "\n",
    "### failfast"
   ]
  },
  {
   "cell_type": "code",
   "execution_count": null,
   "id": "e72f7ba2-bee8-466c-85c2-8ee3640c63d8",
   "metadata": {},
   "outputs": [],
   "source": [
    "emp_schema=\"employee_id int, department_id int,name string, age int,gender string,salary double, hire_date date\"\n",
    "df_mode_dropmalformed=spark.read.format(\"csv\").option(\"header\",True).option(\"mode\",\"FAILFAST\").schema(emp_schema).load(\"input/emp.csv\")\n",
    "df_mode_dropmalformed.printSchema()\n",
    "df_mode_dropmalformed.show()"
   ]
  },
  {
   "cell_type": "code",
   "execution_count": 46,
   "id": "44cdc4c5-07e1-4137-9b0d-dd920e27cd96",
   "metadata": {},
   "outputs": [
    {
     "name": "stdout",
     "output_type": "stream",
     "text": [
      "root\n",
      " |-- employee_id: integer (nullable = true)\n",
      " |-- department_id: integer (nullable = true)\n",
      " |-- name: string (nullable = true)\n",
      " |-- age: integer (nullable = true)\n",
      " |-- gender: string (nullable = true)\n",
      " |-- salary: string (nullable = true)\n",
      " |-- hire_date: timestamp (nullable = true)\n",
      "\n",
      "+-----------+-------------+-------------+---+------+------+-------------------+\n",
      "|employee_id|department_id|         name|age|gender|salary|          hire_date|\n",
      "+-----------+-------------+-------------+---+------+------+-------------------+\n",
      "|          1|          101|     John Doe| 30|  Male| 50000|2015-01-01 00:00:00|\n",
      "|          2|          101|   Jane Smith| 25|Female| 45000|2016-02-15 00:00:00|\n",
      "|          3|          102|    Bob Brown| 35|  Male| 55000|2014-05-01 00:00:00|\n",
      "|          4|          102|    Alice Lee| 28|Female| 48000|2017-09-30 00:00:00|\n",
      "|          5|          103|    Jack Chan| 40|  Male| 60000|2013-04-01 00:00:00|\n",
      "|          6|          103|    Jill Wong| 32|Female| 52000|2018-07-01 00:00:00|\n",
      "|          7|          101|James Johnson| 42|  Male| 70000|2012-03-15 00:00:00|\n",
      "|          8|          102|     Kate Kim| 29|Female| YYYYY|2019-10-01 00:00:00|\n",
      "|          9|          103|      Tom Tan| 33|  Male| 58000|2016-06-01 00:00:00|\n",
      "|         10|          104|     Lisa Lee| 27|Female| 47000|2018-08-01 00:00:00|\n",
      "|         11|          104|   David Park| 38|  Male| 65000|2015-11-01 00:00:00|\n",
      "|         12|          105|   Susan Chen| 31|Female|  YYYY|2017-02-21 00:00:00|\n",
      "|         13|          106|    Brian Kim| 45|  Male| 75000|2011-07-01 00:00:00|\n",
      "|         14|          107|    Emily Lee| 26|Female| 46000|2019-01-01 00:00:00|\n",
      "|         15|          106|  Michael Lee| 37|  Male| 63000|2014-09-30 00:00:00|\n",
      "|         16|          107|  Kelly Zhang| 30|Female| 49000|2018-04-01 00:00:00|\n",
      "|         17|          105|  George Wang| 34|  Male| 57000|2016-03-15 00:00:00|\n",
      "|         18|          104|    Nancy Liu| 29|  null| 50000|2017-06-01 00:00:00|\n",
      "|         19|          103|  Steven Chen| 36|  Male| 62000|2015-08-01 00:00:00|\n",
      "|         20|          102|    Grace Kim| 32|Female| 53000|2018-11-01 00:00:00|\n",
      "+-----------+-------------+-------------+---+------+------+-------------------+\n",
      "only showing top 20 rows\n",
      "\n"
     ]
    }
   ],
   "source": [
    "_options={\n",
    "    \"header\":\"true\",\n",
    "    \"inferSchema\":\"true\",\n",
    "    \"mode\":\"PERMISSIVE\"\n",
    "}\n",
    "\n",
    "emp_schema=\"employee_id int, department_id int,name string, age int,gender string,salary double, hire_date date\"\n",
    "df_mode_dropmalformed=spark.read.format(\"csv\").options(**_options).load(\"input/emp.csv\")\n",
    "df_mode_dropmalformed.printSchema()\n",
    "df_mode_dropmalformed.show()"
   ]
  },
  {
   "cell_type": "code",
   "execution_count": 47,
   "id": "c3cd375f-ec2c-47c2-b42c-a0e59f056831",
   "metadata": {},
   "outputs": [
    {
     "data": {
      "text/markdown": [
       "\n",
       "### Reading many csv file from a folder\n"
      ],
      "text/plain": [
       "<IPython.core.display.Markdown object>"
      ]
     },
     "metadata": {},
     "output_type": "display_data"
    }
   ],
   "source": [
    "%%markdown\n",
    "\n",
    "### Reading many csv file from a folder"
   ]
  },
  {
   "cell_type": "code",
   "execution_count": 54,
   "id": "798fe664-97e4-4819-aede-f3bb9d0ab7a4",
   "metadata": {},
   "outputs": [
    {
     "name": "stdout",
     "output_type": "stream",
     "text": [
      "root\n",
      " |-- employee_id: string (nullable = true)\n",
      " |-- department_id: string (nullable = true)\n",
      " |-- name: string (nullable = true)\n",
      " |-- age: string (nullable = true)\n",
      " |-- gender: string (nullable = true)\n",
      " |-- salary: string (nullable = true)\n",
      " |-- hire_date: string (nullable = true)\n",
      "\n",
      "+-----------+-------------+------------+---+------+------+----------+\n",
      "|employee_id|department_id|        name|age|gender|salary| hire_date|\n",
      "+-----------+-------------+------------+---+------+------+----------+\n",
      "|         11|          103| Chris Green| 27|     M| 52000|2021-03-15|\n",
      "|         12|          103|  Tina White| 36|     F| 63000|2019-09-08|\n",
      "|         13|          103| Daniel Cruz| 40|     M| 71000|2017-05-29|\n",
      "|         14|          103|  Nina Gomez| 31|     F| 60000|2020-11-20|\n",
      "|         15|          103|  Brian Hall| 35|     M| 67000|2018-01-04|\n",
      "|          6|          102|  Mary Zhang| 30|     F| 59000|2020-10-01|\n",
      "|          7|          102|   James Kim| 45|     M| 76000|2016-04-12|\n",
      "|          8|          102|  Linda Wong| 28|     F| 54000|2022-02-19|\n",
      "|          9|          102|Robert Brown| 39|     M| 70000|2018-07-25|\n",
      "|         10|          102| Emily Davis| 33|     F| 61000|2019-12-03|\n",
      "|          1|          101|    John Doe| 29|     M| 55000|2020-01-15|\n",
      "|          2|          101| Alice Smith| 34|     F| 62000|2019-03-22|\n",
      "|          3|          101|   Raj Patel| 41|     M| 72000|2018-11-05|\n",
      "|          4|          101|   Susan Lee| 25|     F| 50000|2021-06-10|\n",
      "|          5|          101|    Mark Liu| 38|     M| 68000|2017-08-14|\n",
      "+-----------+-------------+------------+---+------+------+----------+\n",
      "\n"
     ]
    }
   ],
   "source": [
    "df_from_many=spark.read.option(\"header\",True).csv([\"input/manycsv/emp1.csv\",\"input/manycsv/emp2.csv\",\"input/manycsv/emp3.csv\"])\n",
    "df_from_many.printSchema()\n",
    "\n",
    "df_from_many.show()"
   ]
  },
  {
   "cell_type": "code",
   "execution_count": 74,
   "id": "484c6c11-5b42-47bd-9a39-dde4e8ba1c0d",
   "metadata": {},
   "outputs": [
    {
     "name": "stdout",
     "output_type": "stream",
     "text": [
      "root\n",
      " |-- employee_id: integer (nullable = true)\n",
      " |-- department_id: integer (nullable = true)\n",
      " |-- name: string (nullable = true)\n",
      " |-- age: integer (nullable = true)\n",
      " |-- gender: string (nullable = true)\n",
      " |-- salary: integer (nullable = true)\n",
      " |-- hire_date: timestamp (nullable = true)\n",
      "\n",
      "1\n",
      "+-----------+-------------+------------+---+------+------+-------------------+\n",
      "|employee_id|department_id|        name|age|gender|salary|          hire_date|\n",
      "+-----------+-------------+------------+---+------+------+-------------------+\n",
      "|          1|          101|    John Doe| 29|     M| 55000|2020-01-15 00:00:00|\n",
      "|          2|          101| Alice Smith| 34|     F| 62000|2019-03-22 00:00:00|\n",
      "|          3|          101|   Raj Patel| 41|     M| 72000|2018-11-05 00:00:00|\n",
      "|          4|          101|   Susan Lee| 25|     F| 50000|2021-06-10 00:00:00|\n",
      "|          5|          101|    Mark Liu| 38|     M| 68000|2017-08-14 00:00:00|\n",
      "|          6|          102|  Mary Zhang| 30|     F| 59000|2020-10-01 00:00:00|\n",
      "|          7|          102|   James Kim| 45|     M| 76000|2016-04-12 00:00:00|\n",
      "|          8|          102|  Linda Wong| 28|     F| 54000|2022-02-19 00:00:00|\n",
      "|          9|          102|Robert Brown| 39|     M| 70000|2018-07-25 00:00:00|\n",
      "|         10|          102| Emily Davis| 33|     F| 61000|2019-12-03 00:00:00|\n",
      "|         11|          103| Chris Green| 27|     M| 52000|2021-03-15 00:00:00|\n",
      "|         12|          103|  Tina White| 36|     F| 63000|2019-09-08 00:00:00|\n",
      "|         13|          103| Daniel Cruz| 40|     M| 71000|2017-05-29 00:00:00|\n",
      "|         14|          103|  Nina Gomez| 31|     F| 60000|2020-11-20 00:00:00|\n",
      "|         15|          103|  Brian Hall| 35|     M| 67000|2018-01-04 00:00:00|\n",
      "+-----------+-------------+------------+---+------+------+-------------------+\n",
      "\n"
     ]
    }
   ],
   "source": [
    "from pyspark.sql.functions import col\n",
    "df_from_many=spark.read.option(\"header\",True).option(\"inferschema\",True).csv(\"input/manycsv\").orderBy(col(\"employee_id\"))\n",
    "df_from_many.printSchema()\n",
    "print(df_from_many.rdd.getNumPartitions())\n",
    "df_from_many.show()"
   ]
  },
  {
   "cell_type": "code",
   "execution_count": 75,
   "id": "f1a28ea0-34d5-4f6f-b123-7629951e695c",
   "metadata": {},
   "outputs": [],
   "source": [
    "df_from_many.repartition(3).write.mode(\"overwrite\").save(\"input/parquetinputs\")"
   ]
  },
  {
   "cell_type": "code",
   "execution_count": 63,
   "id": "bf816988-d497-4f0f-8055-bc2dd679487a",
   "metadata": {},
   "outputs": [],
   "source": [
    "df_from_many.write.mode(\"overwrite\").save(\"input/employee.orc\")"
   ]
  },
  {
   "cell_type": "code",
   "execution_count": 64,
   "id": "b3790b9d-113e-45be-b103-c21603eeba1f",
   "metadata": {},
   "outputs": [
    {
     "data": {
      "text/markdown": [
       " #### reading parquet file\n"
      ],
      "text/plain": [
       "<IPython.core.display.Markdown object>"
      ]
     },
     "metadata": {},
     "output_type": "display_data"
    }
   ],
   "source": [
    "%%markdown\n",
    " #### reading parquet file"
   ]
  },
  {
   "cell_type": "markdown",
   "id": "37156d06-f4b9-4cd0-9951-614961e87688",
   "metadata": {},
   "source": [
    "df_parquet=spark.read.format(\"parquet\").load(\"input/employee.parquet/employee.parquet\")\n",
    "df_parquet.printSchema()\n",
    "df_parquet.show()"
   ]
  },
  {
   "cell_type": "code",
   "execution_count": 84,
   "id": "5d8f37a6-0b72-4a6e-bac1-958f1e835a95",
   "metadata": {},
   "outputs": [],
   "source": [
    "import time\n",
    "\n",
    "def get_time_of_execution(func):\n",
    "    def inner_get_time()->str:\n",
    "        start_time=time.time()\n",
    "        func()\n",
    "        end_time=time.time()\n",
    "        duration=(end_time-start_time)*1000\n",
    "        return(f\"ExectuionTime:{duration} ms\")\n",
    "    print(inner_get_time())"
   ]
  },
  {
   "cell_type": "code",
   "execution_count": 71,
   "id": "75d184a2-69dd-4878-8409-7136c9bfc9fb",
   "metadata": {},
   "outputs": [
    {
     "name": "stdout",
     "output_type": "stream",
     "text": [
      "ExectuionTime:435.78243255615234 ms\n"
     ]
    }
   ],
   "source": [
    "@get_time_of_execution\n",
    "def parquet_file_exe():\n",
    "    df_parquet=spark.read.format(\"parquet\").load(\"input/employee.parquet/employee.parquet\")\n",
    "    df_parquet.count()\n",
    "    "
   ]
  },
  {
   "cell_type": "code",
   "execution_count": 73,
   "id": "d56bec94-e3c0-4841-845a-d7c302ea1783",
   "metadata": {},
   "outputs": [
    {
     "name": "stdout",
     "output_type": "stream",
     "text": [
      "ExectuionTime:573.9097595214844 ms\n"
     ]
    }
   ],
   "source": [
    "@get_time_of_execution\n",
    "def csv_file_exe():\n",
    "    df_parquet=spark.read.format(\"csv\").load(\"input/manycsv/\")\n",
    "    df_parquet.count()"
   ]
  },
  {
   "cell_type": "code",
   "execution_count": 80,
   "id": "4129a91d-11ea-4ac8-ba8b-a1f473eca748",
   "metadata": {},
   "outputs": [
    {
     "name": "stdout",
     "output_type": "stream",
     "text": [
      "+-----------+-------------+------------+---+------+------+-------------------+\n",
      "|employee_id|department_id|        name|age|gender|salary|          hire_date|\n",
      "+-----------+-------------+------------+---+------+------+-------------------+\n",
      "|          7|          102|   James Kim| 45|     M| 76000|2016-04-12 00:00:00|\n",
      "|         12|          103|  Tina White| 36|     F| 63000|2019-09-08 00:00:00|\n",
      "|         15|          103|  Brian Hall| 35|     M| 67000|2018-01-04 00:00:00|\n",
      "|          9|          102|Robert Brown| 39|     M| 70000|2018-07-25 00:00:00|\n",
      "|          2|          101| Alice Smith| 34|     F| 62000|2019-03-22 00:00:00|\n",
      "|         14|          103|  Nina Gomez| 31|     F| 60000|2020-11-20 00:00:00|\n",
      "|          4|          101|   Susan Lee| 25|     F| 50000|2021-06-10 00:00:00|\n",
      "|          1|          101|    John Doe| 29|     M| 55000|2020-01-15 00:00:00|\n",
      "|          8|          102|  Linda Wong| 28|     F| 54000|2022-02-19 00:00:00|\n",
      "|         11|          103| Chris Green| 27|     M| 52000|2021-03-15 00:00:00|\n",
      "|          6|          102|  Mary Zhang| 30|     F| 59000|2020-10-01 00:00:00|\n",
      "|          5|          101|    Mark Liu| 38|     M| 68000|2017-08-14 00:00:00|\n",
      "|         13|          103| Daniel Cruz| 40|     M| 71000|2017-05-29 00:00:00|\n",
      "|          3|          101|   Raj Patel| 41|     M| 72000|2018-11-05 00:00:00|\n",
      "|         10|          102| Emily Davis| 33|     F| 61000|2019-12-03 00:00:00|\n",
      "+-----------+-------------+------------+---+------+------+-------------------+\n",
      "\n"
     ]
    }
   ],
   "source": [
    "create_df_from_many_parquets=spark.read.format(\"parquet\").option(\"recursiveFileLookup\",True).load(\"input/parquetinputs\")\n",
    "create_df_from_many_parquet\n"
   ]
  },
  {
   "cell_type": "code",
   "execution_count": 83,
   "id": "8a399660-368e-42c2-84d7-47cdb4e79aea",
   "metadata": {},
   "outputs": [
    {
     "name": "stdout",
     "output_type": "stream",
     "text": [
      "10+20=30\n",
      "10 + 20 = 30\n"
     ]
    }
   ],
   "source": [
    "a=10\n",
    "b=20\n",
    "print(f\"{a}+{b}={a+b}\")\n",
    "print(a,\"+\",b,\"=\",(a+b))"
   ]
  },
  {
   "cell_type": "code",
   "execution_count": 85,
   "id": "17acba9f-e7ed-466e-a81c-15a462ef300e",
   "metadata": {},
   "outputs": [],
   "source": [
    "def get_time_of_execution(func):\n",
    "    def myfunction()->str:\n",
    "        print(\"Before function\")\n",
    "        func()\n",
    "        print(\"After function\")\n",
    "        return \"function executed\"\n",
    "    print(myfunction())"
   ]
  },
  {
   "cell_type": "code",
   "execution_count": 90,
   "id": "7d7326dc-5df8-4762-9029-090cd878b90a",
   "metadata": {},
   "outputs": [
    {
     "name": "stdout",
     "output_type": "stream",
     "text": [
      "Before function\n",
      "I am from demo\n",
      "After function\n",
      "function executed\n"
     ]
    }
   ],
   "source": [
    "@get_time_of_execution\n",
    "def demo():\n",
    "    print(\"I am from demo\")"
   ]
  },
  {
   "cell_type": "code",
   "execution_count": 89,
   "id": "959f2925-c349-4898-8d2b-67d88d1109b6",
   "metadata": {},
   "outputs": [
    {
     "name": "stdout",
     "output_type": "stream",
     "text": [
      "I am from demo\n"
     ]
    }
   ],
   "source": [
    "demo()"
   ]
  },
  {
   "cell_type": "code",
   "execution_count": 96,
   "id": "168f445d-75b0-4b29-962a-ad3f6b30c3eb",
   "metadata": {},
   "outputs": [
    {
     "data": {
      "text/plain": [
       "<bound method DataFrame.describe of DataFrame[employee_id: int, department_id: int, name: string, age: int, gender: string, salary: int, hire_date: timestamp]>"
      ]
     },
     "execution_count": 96,
     "metadata": {},
     "output_type": "execute_result"
    }
   ],
   "source": [
    "df.describe"
   ]
  },
  {
   "cell_type": "code",
   "execution_count": 98,
   "id": "b74f29f1-53c0-4113-a4bb-33219c77c779",
   "metadata": {},
   "outputs": [
    {
     "name": "stdout",
     "output_type": "stream",
     "text": [
      "+-----------+-------------+----------+---+------+------+-------------------+\n",
      "|employee_id|department_id|      name|age|gender|salary|          hire_date|\n",
      "+-----------+-------------+----------+---+------+------+-------------------+\n",
      "|          1|          101|  John Doe| 30|  Male| 50000|2015-01-01 00:00:00|\n",
      "|          2|          101|Jane Smith| 25|Female| 45000|2016-02-15 00:00:00|\n",
      "|          3|          102| Bob Brown| 35|  Male| 55000|2014-05-01 00:00:00|\n",
      "|          4|          102| Alice Lee| 28|Female| 48000|2017-09-30 00:00:00|\n",
      "|          5|          103| Jack Chan| 40|  Male| 60000|2013-04-01 00:00:00|\n",
      "+-----------+-------------+----------+---+------+------+-------------------+\n",
      "only showing top 5 rows\n",
      "\n"
     ]
    }
   ],
   "source": [
    "df.show(5)"
   ]
  },
  {
   "cell_type": "code",
   "execution_count": 100,
   "id": "f2ff4e21-e1d3-483f-a205-54b0db58011c",
   "metadata": {},
   "outputs": [
    {
     "name": "stdout",
     "output_type": "stream",
     "text": [
      "+-----------+-------------+-------------+---+------+------+-------------------+-----+\n",
      "|employee_id|department_id|         name|age|gender|salary|          hire_date|grade|\n",
      "+-----------+-------------+-------------+---+------+------+-------------------+-----+\n",
      "|          1|          101|     John Doe| 30|  Male| 50000|2015-01-01 00:00:00|    d|\n",
      "|          2|          101|   Jane Smith| 25|Female| 45000|2016-02-15 00:00:00|    d|\n",
      "|          3|          102|    Bob Brown| 35|  Male| 55000|2014-05-01 00:00:00|    A|\n",
      "|          4|          102|    Alice Lee| 28|Female| 48000|2017-09-30 00:00:00|    B|\n",
      "|          5|          103|    Jack Chan| 40|  Male| 60000|2013-04-01 00:00:00|    A|\n",
      "|          6|          103|    Jill Wong| 32|Female| 52000|2018-07-01 00:00:00|    A|\n",
      "|          7|          101|James Johnson| 42|  Male| 70000|2012-03-15 00:00:00|    A|\n",
      "|          8|          102|     Kate Kim| 29|Female|  null|2019-10-01 00:00:00|    d|\n",
      "|          9|          103|      Tom Tan| 33|  Male| 58000|2016-06-01 00:00:00|    A|\n",
      "|         10|          104|     Lisa Lee| 27|Female| 47000|2018-08-01 00:00:00|    B|\n",
      "|         11|          104|   David Park| 38|  Male| 65000|2015-11-01 00:00:00|    A|\n",
      "|         12|          105|   Susan Chen| 31|Female|  null|2017-02-21 00:00:00|    d|\n",
      "|         13|          106|    Brian Kim| 45|  Male| 75000|2011-07-01 00:00:00|    A|\n",
      "|         14|          107|    Emily Lee| 26|Female| 46000|2019-01-01 00:00:00|    B|\n",
      "|         15|          106|  Michael Lee| 37|  Male| 63000|2014-09-30 00:00:00|    A|\n",
      "|         16|          107|  Kelly Zhang| 30|Female| 49000|2018-04-01 00:00:00|    B|\n",
      "|         17|          105|  George Wang| 34|  Male| 57000|2016-03-15 00:00:00|    A|\n",
      "|         18|          104|    Nancy Liu| 29|  null| 50000|2017-06-01 00:00:00|    d|\n",
      "|         19|          103|  Steven Chen| 36|  Male| 62000|2015-08-01 00:00:00|    A|\n",
      "|         20|          102|    Grace Kim| 32|Female| 53000|2018-11-01 00:00:00|    A|\n",
      "+-----------+-------------+-------------+---+------+------+-------------------+-----+\n",
      "only showing top 20 rows\n",
      "\n"
     ]
    }
   ],
   "source": [
    "from pyspark.sql.functions import when,col\n",
    "df.withColumn(\"grade\",when(col(\"salary\")>50000,\"A\").when(((col(\"salary\")>45000) & (col(\"salary\")<50000)),\"B\").otherwise(\"d\")).show()"
   ]
  },
  {
   "cell_type": "code",
   "execution_count": null,
   "id": "7fcb0316-b251-418d-8da7-7dcc37b9220a",
   "metadata": {},
   "outputs": [],
   "source": []
  }
 ],
 "metadata": {
  "kernelspec": {
   "display_name": "Python 3 (ipykernel)",
   "language": "python",
   "name": "python3"
  },
  "language_info": {
   "codemirror_mode": {
    "name": "ipython",
    "version": 3
   },
   "file_extension": ".py",
   "mimetype": "text/x-python",
   "name": "python",
   "nbconvert_exporter": "python",
   "pygments_lexer": "ipython3",
   "version": "3.10.17"
  }
 },
 "nbformat": 4,
 "nbformat_minor": 5
}
