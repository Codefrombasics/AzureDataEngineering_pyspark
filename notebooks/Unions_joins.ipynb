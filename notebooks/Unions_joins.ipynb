{
 "cells": [
  {
   "cell_type": "code",
   "execution_count": 3,
   "id": "454129d3-3082-4a80-9448-a94a4aa40fec",
   "metadata": {},
   "outputs": [
    {
     "name": "stderr",
     "output_type": "stream",
     "text": [
      "Setting default log level to \"WARN\".\n",
      "To adjust logging level use sc.setLogLevel(newLevel). For SparkR, use setLogLevel(newLevel).\n"
     ]
    },
    {
     "name": "stdout",
     "output_type": "stream",
     "text": [
      "25/04/12 04:44:49 WARN NativeCodeLoader: Unable to load native-hadoop library for your platform... using builtin-java classes where applicable\n",
      "25/04/12 04:44:52 WARN Utils: Service 'SparkUI' could not bind on port 4040. Attempting port 4041.\n",
      "25/04/12 04:44:52 WARN Utils: Service 'SparkUI' could not bind on port 4041. Attempting port 4042.\n",
      "25/04/12 04:44:52 WARN Utils: Service 'SparkUI' could not bind on port 4042. Attempting port 4043.\n",
      "25/04/12 04:44:52 WARN Utils: Service 'SparkUI' could not bind on port 4043. Attempting port 4044.\n"
     ]
    },
    {
     "data": {
      "text/html": [
       "\n",
       "            <div>\n",
       "                <p><b>SparkSession - in-memory</b></p>\n",
       "                \n",
       "        <div>\n",
       "            <p><b>SparkContext</b></p>\n",
       "\n",
       "            <p><a href=\"http://157801e91612:4044\">Spark UI</a></p>\n",
       "\n",
       "            <dl>\n",
       "              <dt>Version</dt>\n",
       "                <dd><code>v3.3.0</code></dd>\n",
       "              <dt>Master</dt>\n",
       "                <dd><code>local[*]</code></dd>\n",
       "              <dt>AppName</dt>\n",
       "                <dd><code>Union and JOins</code></dd>\n",
       "            </dl>\n",
       "        </div>\n",
       "        \n",
       "            </div>\n",
       "        "
      ],
      "text/plain": [
       "<pyspark.sql.session.SparkSession at 0x7f8a59052020>"
      ]
     },
     "execution_count": 3,
     "metadata": {},
     "output_type": "execute_result"
    }
   ],
   "source": [
    "from pyspark.sql import SparkSession\n",
    "spark=SparkSession.builder.appName(\"Union and JOins\").master(\"local[*]\").getOrCreate()\n",
    "spark"
   ]
  },
  {
   "cell_type": "code",
   "execution_count": 5,
   "id": "a9d604b3-7a59-42b4-919b-bc34abf6e63e",
   "metadata": {},
   "outputs": [],
   "source": [
    "emp_data_1 = [\n",
    "    [\"001\",\"101\",\"John Doe\",\"30\",\"Male\",\"50000\",\"2015-01-01\"],\n",
    "    [\"002\",\"101\",\"Jane Smith\",\"25\",\"Female\",\"45000\",\"2016-02-15\"],\n",
    "    [\"003\",\"102\",\"Bob Brown\",\"35\",\"Male\",\"55000\",\"2014-05-01\"],\n",
    "    [\"004\",\"102\",\"Alice Lee\",\"28\",\"Female\",\"48000\",\"2017-09-30\"],\n",
    "    [\"005\",\"103\",\"Jack Chan\",\"40\",\"Male\",\"60000\",\"2013-04-01\"],\n",
    "    [\"006\",\"103\",\"Jill Wong\",\"32\",\"Female\",\"52000\",\"2018-07-01\"],\n",
    "    [\"007\",\"101\",\"James Johnson\",\"42\",\"Male\",\"70000\",\"2012-03-15\"],\n",
    "    [\"008\",\"102\",\"Kate Kim\",\"29\",\"Female\",\"51000\",\"2019-10-01\"],\n",
    "    [\"009\",\"103\",\"Tom Tan\",\"33\",\"Male\",\"58000\",\"2016-06-01\"],\n",
    "    [\"010\",\"104\",\"Lisa Lee\",\"27\",\"Female\",\"47000\",\"2018-08-01\"]\n",
    "]\n",
    "\n",
    "emp_data_2 = [\n",
    "    [\"011\",\"104\",\"David Park\",\"38\",\"Male\",\"65000\",\"2015-11-01\"],\n",
    "    [\"012\",\"105\",\"Susan Chen\",\"31\",\"Female\",\"54000\",\"2017-02-15\"],\n",
    "    [\"013\",\"106\",\"Brian Kim\",\"45\",\"Male\",\"75000\",\"2011-07-01\"],\n",
    "    [\"014\",\"107\",\"Emily Lee\",\"26\",\"Female\",\"46000\",\"2019-01-01\"],\n",
    "    [\"015\",\"106\",\"Michael Lee\",\"37\",\"Male\",\"63000\",\"2014-09-30\"],\n",
    "    [\"016\",\"107\",\"Kelly Zhang\",\"30\",\"Female\",\"49000\",\"2018-04-01\"],\n",
    "    [\"017\",\"105\",\"George Wang\",\"34\",\"Male\",\"57000\",\"2016-03-15\"],\n",
    "    [\"018\",\"104\",\"Nancy Liu\",\"29\",\"\",\"50000\",\"2017-06-01\"],\n",
    "    [\"019\",\"103\",\"Steven Chen\",\"36\",\"Male\",\"62000\",\"2015-08-01\"],\n",
    "    [\"020\",\"102\",\"Grace Kim\",\"32\",\"Female\",\"53000\",\"2018-11-01\"]\n",
    "]"
   ]
  },
  {
   "cell_type": "code",
   "execution_count": 8,
   "id": "b3117289-461c-48ec-88c4-116f062cf0de",
   "metadata": {},
   "outputs": [],
   "source": [
    "#creating a schema\n",
    "employee_schema=\"employee_id string,department_id string,name string,age string,gender string,salary string,hire_date string\""
   ]
  },
  {
   "cell_type": "code",
   "execution_count": 13,
   "id": "b472aacb-9ce2-44b8-8fc2-0786bef57a6b",
   "metadata": {},
   "outputs": [
    {
     "name": "stdout",
     "output_type": "stream",
     "text": [
      "root\n",
      " |-- employee_id: string (nullable = true)\n",
      " |-- department_id: string (nullable = true)\n",
      " |-- name: string (nullable = true)\n",
      " |-- age: string (nullable = true)\n",
      " |-- gender: string (nullable = true)\n",
      " |-- salary: string (nullable = true)\n",
      " |-- hire_date: string (nullable = true)\n",
      "\n",
      "root\n",
      " |-- employee_id: string (nullable = true)\n",
      " |-- department_id: string (nullable = true)\n",
      " |-- name: string (nullable = true)\n",
      " |-- age: string (nullable = true)\n",
      " |-- gender: string (nullable = true)\n",
      " |-- salary: string (nullable = true)\n",
      " |-- hire_date: string (nullable = true)\n",
      "\n"
     ]
    }
   ],
   "source": [
    "df1=spark.createDataFrame(emp_data_1,employee_schema)\n",
    "df2=spark.createDataFrame(data=emp_data_2,schema=employee_schema)\n",
    "df1.printSchema()\n",
    "\n",
    "df2.printSchema()"
   ]
  },
  {
   "cell_type": "code",
   "execution_count": 14,
   "id": "da78fed6-fb87-4eeb-9e30-84405f020112",
   "metadata": {},
   "outputs": [
    {
     "data": {
      "text/plain": [
       "StructType([StructField('employee_id', StringType(), True), StructField('department_id', StringType(), True), StructField('name', StringType(), True), StructField('age', StringType(), True), StructField('gender', StringType(), True), StructField('salary', StringType(), True), StructField('hire_date', StringType(), True)])"
      ]
     },
     "execution_count": 14,
     "metadata": {},
     "output_type": "execute_result"
    }
   ],
   "source": [
    "schema_in_structtype=df1.schema\n",
    "schema_in_structtype"
   ]
  },
  {
   "cell_type": "code",
   "execution_count": 15,
   "id": "7438de61-cb2c-4fd1-b733-918336d96727",
   "metadata": {},
   "outputs": [
    {
     "name": "stderr",
     "output_type": "stream",
     "text": [
      "[Stage 5:===============================>                          (6 + 5) / 11]"
     ]
    },
    {
     "name": "stdout",
     "output_type": "stream",
     "text": [
      "+-----------+-------------+-------------+---+------+------+----------+\n",
      "|employee_id|department_id|         name|age|gender|salary| hire_date|\n",
      "+-----------+-------------+-------------+---+------+------+----------+\n",
      "|        001|          101|     John Doe| 30|  Male| 50000|2015-01-01|\n",
      "|        002|          101|   Jane Smith| 25|Female| 45000|2016-02-15|\n",
      "|        003|          102|    Bob Brown| 35|  Male| 55000|2014-05-01|\n",
      "|        004|          102|    Alice Lee| 28|Female| 48000|2017-09-30|\n",
      "|        005|          103|    Jack Chan| 40|  Male| 60000|2013-04-01|\n",
      "|        006|          103|    Jill Wong| 32|Female| 52000|2018-07-01|\n",
      "|        007|          101|James Johnson| 42|  Male| 70000|2012-03-15|\n",
      "|        008|          102|     Kate Kim| 29|Female| 51000|2019-10-01|\n",
      "|        009|          103|      Tom Tan| 33|  Male| 58000|2016-06-01|\n",
      "|        010|          104|     Lisa Lee| 27|Female| 47000|2018-08-01|\n",
      "|        011|          104|   David Park| 38|  Male| 65000|2015-11-01|\n",
      "|        012|          105|   Susan Chen| 31|Female| 54000|2017-02-15|\n",
      "|        013|          106|    Brian Kim| 45|  Male| 75000|2011-07-01|\n",
      "|        014|          107|    Emily Lee| 26|Female| 46000|2019-01-01|\n",
      "|        015|          106|  Michael Lee| 37|  Male| 63000|2014-09-30|\n",
      "|        016|          107|  Kelly Zhang| 30|Female| 49000|2018-04-01|\n",
      "|        017|          105|  George Wang| 34|  Male| 57000|2016-03-15|\n",
      "|        018|          104|    Nancy Liu| 29|      | 50000|2017-06-01|\n",
      "|        019|          103|  Steven Chen| 36|  Male| 62000|2015-08-01|\n",
      "|        020|          102|    Grace Kim| 32|Female| 53000|2018-11-01|\n",
      "+-----------+-------------+-------------+---+------+------+----------+\n",
      "\n"
     ]
    },
    {
     "name": "stderr",
     "output_type": "stream",
     "text": [
      "                                                                                "
     ]
    }
   ],
   "source": [
    "df1.union(df2).show() #show is a action"
   ]
  },
  {
   "cell_type": "code",
   "execution_count": 16,
   "id": "6514a73c-0396-4416-9d40-bfd12a5f87fe",
   "metadata": {},
   "outputs": [
    {
     "data": {
      "text/plain": [
       "['employee_id',\n",
       " 'department_id',\n",
       " 'name',\n",
       " 'age',\n",
       " 'gender',\n",
       " 'salary',\n",
       " 'hire_date']"
      ]
     },
     "execution_count": 16,
     "metadata": {},
     "output_type": "execute_result"
    }
   ],
   "source": [
    "df1.columns"
   ]
  },
  {
   "cell_type": "code",
   "execution_count": 17,
   "id": "32ba62a5-17cf-47ce-aaab-a554e172ac5e",
   "metadata": {},
   "outputs": [],
   "source": [
    "#select employee_id,name,age,salary from emp\n",
    "from pyspark.sql.functions import col,expr\n",
    "emp_data=df1.select(\"employee_id\",col(\"department_id\"),expr(\"name\"),df1.age,df1.salary)"
   ]
  },
  {
   "cell_type": "code",
   "execution_count": 18,
   "id": "c8436a64-5ffa-4efc-a2df-c14acc550937",
   "metadata": {},
   "outputs": [
    {
     "name": "stdout",
     "output_type": "stream",
     "text": [
      "+-----------+-------------+-------------+---+------+\n",
      "|employee_id|department_id|         name|age|salary|\n",
      "+-----------+-------------+-------------+---+------+\n",
      "|        001|          101|     John Doe| 30| 50000|\n",
      "|        002|          101|   Jane Smith| 25| 45000|\n",
      "|        003|          102|    Bob Brown| 35| 55000|\n",
      "|        004|          102|    Alice Lee| 28| 48000|\n",
      "|        005|          103|    Jack Chan| 40| 60000|\n",
      "|        006|          103|    Jill Wong| 32| 52000|\n",
      "|        007|          101|James Johnson| 42| 70000|\n",
      "|        008|          102|     Kate Kim| 29| 51000|\n",
      "|        009|          103|      Tom Tan| 33| 58000|\n",
      "|        010|          104|     Lisa Lee| 27| 47000|\n",
      "+-----------+-------------+-------------+---+------+\n",
      "\n"
     ]
    }
   ],
   "source": [
    "emp_data.show()"
   ]
  },
  {
   "cell_type": "code",
   "execution_count": 22,
   "id": "0b397fb3-205b-44e6-b157-ba7c06890ddd",
   "metadata": {},
   "outputs": [
    {
     "name": "stdout",
     "output_type": "stream",
     "text": [
      "root\n",
      " |-- employee_id: string (nullable = true)\n",
      " |-- department_id: string (nullable = true)\n",
      " |-- name: string (nullable = true)\n",
      " |-- age: string (nullable = true)\n",
      " |-- salary: string (nullable = true)\n",
      "\n",
      "root\n",
      " |-- emp_id: string (nullable = true)\n",
      " |-- name: string (nullable = true)\n",
      " |-- age: integer (nullable = true)\n",
      " |-- salary: long (nullable = true)\n",
      "\n",
      "+------+-------------+---+------+\n",
      "|emp_id|         name|age|salary|\n",
      "+------+-------------+---+------+\n",
      "|   001|     John Doe| 30| 50000|\n",
      "|   002|   Jane Smith| 25| 45000|\n",
      "|   003|    Bob Brown| 35| 55000|\n",
      "|   004|    Alice Lee| 28| 48000|\n",
      "|   005|    Jack Chan| 40| 60000|\n",
      "|   006|    Jill Wong| 32| 52000|\n",
      "|   007|James Johnson| 42| 70000|\n",
      "|   008|     Kate Kim| 29| 51000|\n",
      "|   009|      Tom Tan| 33| 58000|\n",
      "|   010|     Lisa Lee| 27| 47000|\n",
      "+------+-------------+---+------+\n",
      "\n"
     ]
    }
   ],
   "source": [
    "#casting-> converting from one datatype to another datatype\n",
    "\n",
    "emp_data.printSchema()\n",
    "emp_data_casted=emp_data.select(expr(\"employee_id as emp_id\"),df1.name,expr(\"cast(age as int) as age\"),expr(\"cast(salary as long) as salary\"))\n",
    "emp_data_casted.printSchema()\n",
    "emp_data_casted.show()"
   ]
  },
  {
   "cell_type": "code",
   "execution_count": 24,
   "id": "ee33f43d-c70f-461a-a6d7-25794e97b976",
   "metadata": {},
   "outputs": [
    {
     "name": "stdout",
     "output_type": "stream",
     "text": [
      "+------+-------------+---+------+\n",
      "|emp_id|         name|age|salary|\n",
      "+------+-------------+---+------+\n",
      "|   003|    Bob Brown| 35| 55000|\n",
      "|   005|    Jack Chan| 40| 60000|\n",
      "|   006|    Jill Wong| 32| 52000|\n",
      "|   007|James Johnson| 42| 70000|\n",
      "|   009|      Tom Tan| 33| 58000|\n",
      "+------+-------------+---+------+\n",
      "\n"
     ]
    }
   ],
   "source": [
    "#filter the employee based on the age above 30\n",
    "\n",
    "emp_above_30=emp_data_casted.filter(\"age>30\")\n",
    "emp_above_30=emp_data_casted.where(\"age>30\")\n",
    "emp_above_30.show() #show is a action"
   ]
  },
  {
   "cell_type": "code",
   "execution_count": 28,
   "id": "cf5253c4-ca93-4e3f-a7dc-ff5cc2c52572",
   "metadata": {},
   "outputs": [
    {
     "data": {
      "text/plain": [
       "8"
      ]
     },
     "execution_count": 28,
     "metadata": {},
     "output_type": "execute_result"
    }
   ],
   "source": [
    "emp_above_30.rdd.getNumPartitions()"
   ]
  },
  {
   "cell_type": "code",
   "execution_count": 33,
   "id": "a14b4bc9-4927-4875-8653-85c54f9c1078",
   "metadata": {},
   "outputs": [
    {
     "name": "stderr",
     "output_type": "stream",
     "text": [
      "                                                                                "
     ]
    }
   ],
   "source": [
    "#to write the above result into a file like csv(Action)\n",
    "emp_above_30.coalesce(1).write.format(\"csv\").save(\"emp_above302.csv\")"
   ]
  },
  {
   "cell_type": "code",
   "execution_count": 29,
   "id": "8f28f095-50fc-4d28-8446-ab0a3f4ada40",
   "metadata": {},
   "outputs": [
    {
     "data": {
      "text/plain": [
       "StructType([StructField('name', StringType(), True), StructField('age', IntegerType(), True)])"
      ]
     },
     "execution_count": 29,
     "metadata": {},
     "output_type": "execute_result"
    }
   ],
   "source": [
    "schema_test=\"name string,age int\"\n",
    "#I want to convert this into StructType\n",
    "# StrutType[StructField(\"name\",StringType(),StructField(\"age\",IntegerType()))]\n",
    "from pyspark.sql.types import _parse_datatype_string\n",
    "schema_sparktype=_parse_datatype_string(schema_test)\n",
    "schema_sparktype"
   ]
  },
  {
   "cell_type": "code",
   "execution_count": 34,
   "id": "1acbb6bf-fff4-4bb9-8da8-1226b2ceab9b",
   "metadata": {},
   "outputs": [
    {
     "name": "stdout",
     "output_type": "stream",
     "text": [
      "root\n",
      " |-- age: string (nullable = true)\n",
      " |-- salary: string (nullable = true)\n",
      " |-- employee_id: string (nullable = true)\n",
      " |-- hire_date: string (nullable = true)\n",
      " |-- department_id: string (nullable = true)\n",
      " |-- gender: string (nullable = true)\n",
      " |-- name: string (nullable = true)\n",
      "\n"
     ]
    }
   ],
   "source": [
    "disordered_df=df1.select(df1.age,df1.salary,df1.employee_id,df1.hire_date,df1.department_id,df1.gender,df1.name)\n",
    "disordered_df.printSchema()"
   ]
  },
  {
   "cell_type": "code",
   "execution_count": 35,
   "id": "b30922a1-dbee-4c40-94fa-9ff2c5f36072",
   "metadata": {},
   "outputs": [
    {
     "name": "stdout",
     "output_type": "stream",
     "text": [
      "root\n",
      " |-- employee_id: string (nullable = true)\n",
      " |-- department_id: string (nullable = true)\n",
      " |-- name: string (nullable = true)\n",
      " |-- age: string (nullable = true)\n",
      " |-- gender: string (nullable = true)\n",
      " |-- salary: string (nullable = true)\n",
      " |-- hire_date: string (nullable = true)\n",
      "\n"
     ]
    }
   ],
   "source": [
    "df1.printSchema()"
   ]
  },
  {
   "cell_type": "code",
   "execution_count": null,
   "id": "fc39041e-293e-4240-af5f-cd2477cfcf6e",
   "metadata": {},
   "outputs": [],
   "source": [
    "df1.union(disordered_df).show()#give wrong union data if the datafram column is not in sequence"
   ]
  },
  {
   "cell_type": "code",
   "execution_count": 38,
   "id": "02eb299a-3236-45ec-9524-3727f12202cd",
   "metadata": {},
   "outputs": [
    {
     "name": "stdout",
     "output_type": "stream",
     "text": [
      "+-----------+-------------+-------------+---+------+------+----------+\n",
      "|employee_id|department_id|         name|age|gender|salary| hire_date|\n",
      "+-----------+-------------+-------------+---+------+------+----------+\n",
      "|        001|          101|     John Doe| 30|  Male| 50000|2015-01-01|\n",
      "|        002|          101|   Jane Smith| 25|Female| 45000|2016-02-15|\n",
      "|        003|          102|    Bob Brown| 35|  Male| 55000|2014-05-01|\n",
      "|        004|          102|    Alice Lee| 28|Female| 48000|2017-09-30|\n",
      "|        005|          103|    Jack Chan| 40|  Male| 60000|2013-04-01|\n",
      "|        006|          103|    Jill Wong| 32|Female| 52000|2018-07-01|\n",
      "|        007|          101|James Johnson| 42|  Male| 70000|2012-03-15|\n",
      "|        008|          102|     Kate Kim| 29|Female| 51000|2019-10-01|\n",
      "|        009|          103|      Tom Tan| 33|  Male| 58000|2016-06-01|\n",
      "|        010|          104|     Lisa Lee| 27|Female| 47000|2018-08-01|\n",
      "|        001|          101|     John Doe| 30|  Male| 50000|2015-01-01|\n",
      "|        002|          101|   Jane Smith| 25|Female| 45000|2016-02-15|\n",
      "|        003|          102|    Bob Brown| 35|  Male| 55000|2014-05-01|\n",
      "|        004|          102|    Alice Lee| 28|Female| 48000|2017-09-30|\n",
      "|        005|          103|    Jack Chan| 40|  Male| 60000|2013-04-01|\n",
      "|        006|          103|    Jill Wong| 32|Female| 52000|2018-07-01|\n",
      "|        007|          101|James Johnson| 42|  Male| 70000|2012-03-15|\n",
      "|        008|          102|     Kate Kim| 29|Female| 51000|2019-10-01|\n",
      "|        009|          103|      Tom Tan| 33|  Male| 58000|2016-06-01|\n",
      "|        010|          104|     Lisa Lee| 27|Female| 47000|2018-08-01|\n",
      "+-----------+-------------+-------------+---+------+------+----------+\n",
      "\n"
     ]
    },
    {
     "name": "stderr",
     "output_type": "stream",
     "text": [
      "                                                                                "
     ]
    }
   ],
   "source": [
    "#if your dataframe is not in sequence of another dataframe, then use unionByName\n",
    "df1.unionByName(disordered_df).show()"
   ]
  },
  {
   "cell_type": "code",
   "execution_count": 52,
   "id": "b94a2c94-e5de-4833-af13-417525912200",
   "metadata": {},
   "outputs": [],
   "source": [
    "dept_data=[\n",
    "    [\"101\",\"Sales\",\"NYC\",\"US\"],\n",
    "    [\"102\",\"Marekting\",\"NewJersy\",\"US\"],\n",
    "    [\"103\",\"Product Development\",\"Delhi\",\"India\"],\n",
    "    [\"104\",\"HR\",\"Chennai\",\"India\"],\n",
    "    [\"105\",\"Finance\",\"Hyderabad\",\"India\"]\n",
    "]\n",
    "dept_schema=\"department_id string,dept_name string,city string,country string\"\n"
   ]
  },
  {
   "cell_type": "code",
   "execution_count": 53,
   "id": "6f9aea8f-877b-4113-8132-dbc37c86c45f",
   "metadata": {},
   "outputs": [
    {
     "name": "stdout",
     "output_type": "stream",
     "text": [
      "+-------------+-------------------+---------+-------+\n",
      "|department_id|          dept_name|     city|country|\n",
      "+-------------+-------------------+---------+-------+\n",
      "|          101|              Sales|      NYC|     US|\n",
      "|          102|          Marekting| NewJersy|     US|\n",
      "|          103|Product Development|    Delhi|  India|\n",
      "|          104|                 HR|  Chennai|  India|\n",
      "|          105|            Finance|Hyderabad|  India|\n",
      "+-------------+-------------------+---------+-------+\n",
      "\n"
     ]
    }
   ],
   "source": [
    "dept_df=spark.createDataFrame(dept_data,dept_schema)\n",
    "dept_df.show()"
   ]
  },
  {
   "cell_type": "code",
   "execution_count": 54,
   "id": "fbc36b0f-795c-4226-ba27-c83efc4baf99",
   "metadata": {},
   "outputs": [
    {
     "data": {
      "text/plain": [
       "8"
      ]
     },
     "execution_count": 54,
     "metadata": {},
     "output_type": "execute_result"
    }
   ],
   "source": [
    "df1.rdd.getNumPartitions()"
   ]
  },
  {
   "cell_type": "code",
   "execution_count": 55,
   "id": "48967314-61a0-4b3b-bd18-e1f6c5cf357e",
   "metadata": {},
   "outputs": [
    {
     "data": {
      "text/plain": [
       "8"
      ]
     },
     "execution_count": 55,
     "metadata": {},
     "output_type": "execute_result"
    }
   ],
   "source": [
    "dept_df.rdd.getNumPartitions()"
   ]
  },
  {
   "cell_type": "code",
   "execution_count": 59,
   "id": "2502743b-a6e6-4039-a4a5-de6f77f42870",
   "metadata": {},
   "outputs": [
    {
     "data": {
      "text/plain": [
       "4"
      ]
     },
     "execution_count": 59,
     "metadata": {},
     "output_type": "execute_result"
    }
   ],
   "source": [
    "df1_reduced_partitions=df1.coalesce(4)\n",
    "df1_reduced_partitions.rdd.getNumPartitions()\n",
    "dept_df_reduced_partitions=dept_df.coalesce(4)\n",
    "dept_df_reduced_partitions.rdd.getNumPartitions()"
   ]
  },
  {
   "cell_type": "code",
   "execution_count": 62,
   "id": "285fe787-af3d-4554-9a9c-4f3267fcc629",
   "metadata": {},
   "outputs": [],
   "source": [
    "#select e.emp_name,d.department_name,department_id,salary \n",
    "#from emp e inner join dept d on emp.department_id=d.department_id\n",
    "\n",
    "df_joined=df1_reduced_partitions.alias(\"e\").join(dept_df_reduced_partitions.alias(\"d\"),how=\"inner\",on=df1_reduced_partitions.department_id==dept_df_reduced_partitions.department_id)\n"
   ]
  },
  {
   "cell_type": "code",
   "execution_count": 66,
   "id": "ee02d2b7-9d71-4f44-a30e-e323f9d70d0c",
   "metadata": {},
   "outputs": [
    {
     "name": "stderr",
     "output_type": "stream",
     "text": [
      "[Stage 69:=============>    (3 + 1) / 4][Stage 70:=========>        (2 + 2) / 4]"
     ]
    },
    {
     "name": "stdout",
     "output_type": "stream",
     "text": [
      "+-------------+-------------------+------+-------------+\n",
      "|         name|          dept_name|salary|department_id|\n",
      "+-------------+-------------------+------+-------------+\n",
      "|     John Doe|              Sales| 50000|          101|\n",
      "|   Jane Smith|              Sales| 45000|          101|\n",
      "|James Johnson|              Sales| 70000|          101|\n",
      "|    Bob Brown|          Marekting| 55000|          102|\n",
      "|    Alice Lee|          Marekting| 48000|          102|\n",
      "|     Kate Kim|          Marekting| 51000|          102|\n",
      "|    Jack Chan|Product Development| 60000|          103|\n",
      "|    Jill Wong|Product Development| 52000|          103|\n",
      "|      Tom Tan|Product Development| 58000|          103|\n",
      "|     Lisa Lee|                 HR| 47000|          104|\n",
      "+-------------+-------------------+------+-------------+\n",
      "\n"
     ]
    },
    {
     "name": "stderr",
     "output_type": "stream",
     "text": [
      "                                                                                "
     ]
    }
   ],
   "source": [
    "df_joined.select(\"e.name\",\"d.dept_name\",\"e.salary\",\"d.department_id\").show()"
   ]
  },
  {
   "cell_type": "code",
   "execution_count": 68,
   "id": "1df96a2f-deb4-4995-ae33-3603edce51cb",
   "metadata": {},
   "outputs": [
    {
     "name": "stderr",
     "output_type": "stream",
     "text": [
      "                                                                                "
     ]
    },
    {
     "name": "stdout",
     "output_type": "stream",
     "text": [
      "+-------------+-------------------+------+-------------+\n",
      "|         name|          dept_name|salary|department_id|\n",
      "+-------------+-------------------+------+-------------+\n",
      "|     John Doe|              Sales| 50000|          101|\n",
      "|   Jane Smith|              Sales| 45000|          101|\n",
      "|    Bob Brown|          Marekting| 55000|          102|\n",
      "|    Alice Lee|          Marekting| 48000|          102|\n",
      "|    Jack Chan|Product Development| 60000|          103|\n",
      "|James Johnson|              Sales| 70000|          101|\n",
      "|    Jill Wong|Product Development| 52000|          103|\n",
      "|     Lisa Lee|                 HR| 47000|          104|\n",
      "|     Kate Kim|          Marekting| 51000|          102|\n",
      "|      Tom Tan|Product Development| 58000|          103|\n",
      "+-------------+-------------------+------+-------------+\n",
      "\n"
     ]
    }
   ],
   "source": [
    "#select e.emp_name,d.department_name,department_id,salary \n",
    "#from emp e left outer join dept d on emp.department_id=d.department_id\n",
    "\n",
    "df_left_joined=df1_reduced_partitions.alias(\"e\").join(dept_df_reduced_partitions.alias(\"d\"),how=\"left_outer\",on=df1_reduced_partitions.department_id==dept_df_reduced_partitions.department_id)\n",
    "df_left_joined.select(\"e.name\",\"d.dept_name\",\"e.salary\",\"d.department_id\").show()"
   ]
  },
  {
   "cell_type": "code",
   "execution_count": 70,
   "id": "726bff59-e856-4431-a3d7-09103160a049",
   "metadata": {},
   "outputs": [
    {
     "name": "stderr",
     "output_type": "stream",
     "text": [
      "[Stage 86:=========>        (2 + 2) / 4][Stage 87:>                 (0 + 4) / 4]"
     ]
    },
    {
     "name": "stdout",
     "output_type": "stream",
     "text": [
      "+-------------+-------------------+------+-------------+\n",
      "|         name|          dept_name|salary|department_id|\n",
      "+-------------+-------------------+------+-------------+\n",
      "|     John Doe|              Sales| 50000|          101|\n",
      "|   Jane Smith|              Sales| 45000|          101|\n",
      "|James Johnson|              Sales| 70000|          101|\n",
      "|    Bob Brown|          Marekting| 55000|          102|\n",
      "|    Alice Lee|          Marekting| 48000|          102|\n",
      "|     Kate Kim|          Marekting| 51000|          102|\n",
      "|    Jack Chan|Product Development| 60000|          103|\n",
      "|    Jill Wong|Product Development| 52000|          103|\n",
      "|      Tom Tan|Product Development| 58000|          103|\n",
      "|     Lisa Lee|                 HR| 47000|          104|\n",
      "|         null|            Finance|  null|          105|\n",
      "+-------------+-------------------+------+-------------+\n",
      "\n"
     ]
    },
    {
     "name": "stderr",
     "output_type": "stream",
     "text": [
      "                                                                                "
     ]
    }
   ],
   "source": [
    "#select e.emp_name,d.department_name,department_id,salary \n",
    "#from emp e right outer join dept d on emp.department_id=d.department_id\n",
    "\n",
    "df_right_joined=df1_reduced_partitions.alias(\"e\").join(dept_df_reduced_partitions.alias(\"d\"),how=\"full_outer\",on=df1_reduced_partitions.department_id==dept_df_reduced_partitions.department_id)\n",
    "df_right_joined.select(\"e.name\",\"d.dept_name\",\"e.salary\",\"d.department_id\").show()"
   ]
  },
  {
   "cell_type": "code",
   "execution_count": null,
   "id": "1fcdfe9c-2c8d-4d21-a8b3-a868e1a8f7ed",
   "metadata": {},
   "outputs": [],
   "source": []
  }
 ],
 "metadata": {
  "kernelspec": {
   "display_name": "Python 3 (ipykernel)",
   "language": "python",
   "name": "python3"
  },
  "language_info": {
   "codemirror_mode": {
    "name": "ipython",
    "version": 3
   },
   "file_extension": ".py",
   "mimetype": "text/x-python",
   "name": "python",
   "nbconvert_exporter": "python",
   "pygments_lexer": "ipython3",
   "version": "3.10.17"
  }
 },
 "nbformat": 4,
 "nbformat_minor": 5
}
